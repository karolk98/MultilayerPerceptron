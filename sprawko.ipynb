{
 "cells": [
  {
   "cell_type": "markdown",
   "metadata": {},
   "source": [
    "## Testy poprawności"
   ]
  },
  {
   "cell_type": "markdown",
   "metadata": {},
   "source": [
    "Pierwszy test został przeprowadzony na danych data.simple."
   ]
  },
  {
   "cell_type": "code",
   "execution_count": 22,
   "metadata": {},
   "outputs": [
    {
     "name": "stdout",
     "output_type": "stream",
     "text": [
      "0.9429\n"
     ]
    }
   ],
   "source": [
    "from Perceptron import *\n",
    "import numpy as np\n",
    "import matplotlib.pyplot as plt\n",
    "\n",
    "np.random.seed(1)\n",
    "mlp = Perceptron(problem_type=Perceptron.ProblemType.Classification,\n",
    "                     hidden_layers=[3],\n",
    "                     activation=sigmoid,\n",
    "                     dActivation=dSigmoid,\n",
    "                     final=sigmoid,\n",
    "                     dFinal=dSigmoid,\n",
    "                     batch_size=3,\n",
    "                     learning_rate=0.1,\n",
    "                     momentum=0.1,\n",
    "                     epochs=1,\n",
    "                     bias=True)\n",
    "mlp.load(\"data\\data.simple.train.10000.csv\")\n",
    "mlp.train()\n",
    "mlp.test(\"data\\data.simple.test.10000.csv\")"
   ]
  },
  {
   "cell_type": "code",
   "execution_count": 23,
   "metadata": {},
   "outputs": [
    {
     "ename": "NameError",
     "evalue": "name 'draw_classes' is not defined",
     "output_type": "error",
     "traceback": [
      "\u001b[1;31m---------------------------------------------------------------------------\u001b[0m",
      "\u001b[1;31mNameError\u001b[0m                                 Traceback (most recent call last)",
      "\u001b[1;32m<ipython-input-23-b93548fcc34e>\u001b[0m in \u001b[0;36m<module>\u001b[1;34m\u001b[0m\n\u001b[1;32m----> 1\u001b[1;33m \u001b[0mdraw_classes\u001b[0m\u001b[1;33m(\u001b[0m\u001b[0mmlp\u001b[0m\u001b[1;33m,\u001b[0m \u001b[1;34m\"data\\data.three_gauss.test.10000.csv\"\u001b[0m\u001b[1;33m)\u001b[0m\u001b[1;33m\u001b[0m\u001b[1;33m\u001b[0m\u001b[0m\n\u001b[0m",
      "\u001b[1;31mNameError\u001b[0m: name 'draw_classes' is not defined"
     ]
    }
   ],
   "source": [
    "draw_classes(mlp, \"data\\data.three_gauss.test.10000.csv\")"
   ]
  },
  {
   "cell_type": "markdown",
   "metadata": {},
   "source": [
    "Kolejny test został przeprowadzony na zbiorze ganych data.three_gauss."
   ]
  },
  {
   "cell_type": "code",
   "execution_count": null,
   "metadata": {},
   "outputs": [],
   "source": [
    "np.random.seed(1)\n",
    "mlp = Perceptron(problem_type=Perceptron.ProblemType.Classification,\n",
    "                     hidden_layers=[3],\n",
    "                     activation=sigmoid,\n",
    "                     dActivation=dSigmoid,\n",
    "                     final=sigmoid,\n",
    "                     dFinal=dSigmoid,\n",
    "                     batch_size=3,\n",
    "                     learning_rate=0.1,\n",
    "                     momentum=0.1,\n",
    "                     epochs=1,\n",
    "                     bias=True)\n",
    "mlp.load(\"data\\data.three_gauss.train.10000.csv\")\n",
    "mlp.train()\n",
    "mlp.test(\"data\\data.three_gauss.test.10000.csv\")"
   ]
  },
  {
   "cell_type": "code",
   "execution_count": null,
   "metadata": {},
   "outputs": [],
   "source": []
  },
  {
   "cell_type": "code",
   "execution_count": null,
   "metadata": {},
   "outputs": [],
   "source": []
  },
  {
   "cell_type": "code",
   "execution_count": null,
   "metadata": {},
   "outputs": [],
   "source": []
  }
 ],
 "metadata": {
  "kernelspec": {
   "display_name": "Python 3",
   "language": "python",
   "name": "python3"
  },
  "language_info": {
   "codemirror_mode": {
    "name": "ipython",
    "version": 3
   },
   "file_extension": ".py",
   "mimetype": "text/x-python",
   "name": "python",
   "nbconvert_exporter": "python",
   "pygments_lexer": "ipython3",
   "version": "3.8.5"
  }
 },
 "nbformat": 4,
 "nbformat_minor": 4
}
